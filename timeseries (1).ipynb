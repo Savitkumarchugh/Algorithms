{
 "cells": [
  {
   "cell_type": "markdown",
   "id": "81a2c628-7aa3-4e7d-8f27-7f51126218d5",
   "metadata": {},
   "source": [
    "# Data Ingestion"
   ]
  },
  {
   "cell_type": "code",
   "execution_count": null,
   "id": "f364b50d-6c4d-475d-9cdd-dd3cdff3fe34",
   "metadata": {},
   "outputs": [],
   "source": [
    "import pandas as pd\n",
    "import numpy as np\n",
    "import matplotlib.pyplot as plt\n",
    "import seaborn as sns\n",
    "\n",
    "import os\n",
    "import sys\n",
    "\n",
    "from statsmodels.tsa.stattools import adfuller\n",
    "from statsmodels.tsa.seasonal import seasonal_decompose\n",
    "\n",
    "from statsmodels.graphics.tsaplots import plot_acf, plot_pacf\n",
    "\n",
    "import statsmodels.api as sm\n",
    "from statsmodels.tsa.arima.model import ARIMA\n",
    "from sklearn. metrics import mean_squared_error\n",
    "\n",
    "from statsmodels.graphics.tsaplots import plot_predict\n",
    "\n",
    "import warnings\n",
    "warnings.filterwarnings('ignore')"
   ]
  },
  {
   "cell_type": "code",
   "execution_count": null,
   "id": "c32cfc15-b34e-4d91-8e1f-cd5b024d1fa1",
   "metadata": {},
   "outputs": [],
   "source": [
    "data = pd.read_csv('TSLA.csv')\n",
    "data.head()"
   ]
  },
  {
   "cell_type": "code",
   "execution_count": null,
   "id": "a0310c27-b6dc-4532-b036-2da44becd555",
   "metadata": {},
   "outputs": [],
   "source": [
    "stock_data = data[['Date','Close']]\n",
    "\n",
    "stock_data.head(7)"
   ]
  },
  {
   "cell_type": "code",
   "execution_count": null,
   "id": "cb038aaa-5516-4f23-b5e3-072958e47ff3",
   "metadata": {},
   "outputs": [],
   "source": [
    "stock_data.info()"
   ]
  },
  {
   "cell_type": "code",
   "execution_count": null,
   "id": "2e986a2b-9cf6-4088-a8a6-a918e6f319ef",
   "metadata": {},
   "outputs": [],
   "source": [
    "stock_data['Date'] = pd.to_datetime(stock_data['Date'])"
   ]
  },
  {
   "cell_type": "code",
   "execution_count": null,
   "id": "8480e835-836e-44c0-aabd-b9cc89463491",
   "metadata": {},
   "outputs": [],
   "source": [
    "stock_data.info()"
   ]
  },
  {
   "cell_type": "code",
   "execution_count": null,
   "id": "741e0e17-4da6-486d-80a3-e929c88fc4bb",
   "metadata": {},
   "outputs": [],
   "source": [
    "stock_data.head(2)"
   ]
  },
  {
   "cell_type": "code",
   "execution_count": null,
   "id": "b4bb003b-7ada-4898-b2f3-52214f47ebdd",
   "metadata": {},
   "outputs": [],
   "source": [
    "stock_data = stock_data.set_index('Date')\n",
    "stock_data.head(2)"
   ]
  },
  {
   "cell_type": "markdown",
   "id": "dd4d18eb-f4db-4721-8f74-4c25527e4111",
   "metadata": {},
   "source": [
    "# EDA"
   ]
  },
  {
   "cell_type": "code",
   "execution_count": null,
   "id": "fbf29d01-3c09-42ee-8037-e0f97310881f",
   "metadata": {},
   "outputs": [],
   "source": [
    "stock_data.describe()"
   ]
  },
  {
   "cell_type": "code",
   "execution_count": null,
   "id": "ad7d5d60-ebab-4769-9882-825ff12c2713",
   "metadata": {},
   "outputs": [],
   "source": [
    "plt.plot(stock_data.Close)"
   ]
  },
  {
   "cell_type": "code",
   "execution_count": null,
   "id": "6b4ceb3b-6b23-4a7e-bfb6-50aa7c76d7f0",
   "metadata": {},
   "outputs": [],
   "source": [
    "plt.hist(stock_data.Close)"
   ]
  },
  {
   "cell_type": "code",
   "execution_count": null,
   "id": "c5e7342f-2c7f-4a0e-ad87-ab41b155f8b6",
   "metadata": {},
   "outputs": [],
   "source": [
    "plt.style.use('ggplot')\n",
    "plt.figure(figsize=(18,8))\n",
    "plt.grid(True)\n",
    "plt.xlabel('Dates', fontsize = 20)\n",
    "plt.xticks(fontsize = 15)\n",
    "plt.ylabel('Close Prices', fontsize = 20)\n",
    "plt.yticks(fontsize = 15)\n",
    "plt.plot(stock_data.Close, linewidth = 3, color = 'blue')\n",
    "plt.title('Tesla Stock Closing Price', fontsize = 30)\n",
    "plt.show()"
   ]
  },
  {
   "cell_type": "code",
   "execution_count": null,
   "id": "6a9f9d41-f877-49e8-920f-16ed79e4ed1a",
   "metadata": {},
   "outputs": [],
   "source": [
    "plt.style.use('ggplot')\n",
    "plt.figure(figsize=(18,8))\n",
    "plt.grid(True)\n",
    "plt.xlabel('Dates', fontsize = 20)\n",
    "plt.xticks(fontsize = 15)\n",
    "plt.ylabel('Close Prices', fontsize = 20)\n",
    "plt.yticks(fontsize = 15)\n",
    "plt.hist(stock_data.Close, linewidth = 3, color = 'blue')\n",
    "plt.title('Tesla Stock Closing Price', fontsize = 30)\n",
    "plt.show()"
   ]
  },
  {
   "cell_type": "code",
   "execution_count": null,
   "id": "04ee20a7-2ea9-4e4e-816d-5ceb04aefed4",
   "metadata": {},
   "outputs": [],
   "source": [
    "df_close = stock_data.Close\n",
    "\n",
    "df_close.plot(kind = 'kde', figsize = (18,8), linewidth = 3)\n",
    "\n",
    "plt.grid('both')\n",
    "plt.xlabel('Dates', fontsize = 20)\n",
    "plt.xticks(fontsize = 15)\n",
    "plt.ylabel('Close Prices', fontsize = 20)\n",
    "plt.yticks(fontsize = 15)\n",
    "plt.title('Tesla Stock Closing Price', fontsize = 30)\n",
    "plt.show()"
   ]
  },
  {
   "cell_type": "code",
   "execution_count": null,
   "id": "8406f65c-714a-4c6a-bc1c-33c408301fa2",
   "metadata": {},
   "outputs": [],
   "source": [
    "roll_mean = stock_data.Close.rolling(48).mean()"
   ]
  },
  {
   "cell_type": "code",
   "execution_count": null,
   "id": "984a7419-ef62-4ea3-afc2-6de39f2741dc",
   "metadata": {},
   "outputs": [],
   "source": [
    "roll_std = stock_data.Close.rolling(48).std()"
   ]
  },
  {
   "cell_type": "code",
   "execution_count": null,
   "id": "f881fe09-431d-40cd-a690-5e15556ad7fd",
   "metadata": {},
   "outputs": [],
   "source": [
    "plt.style.use('ggplot')\n",
    "plt.figure(figsize=(18,8))\n",
    "plt.grid(True)\n",
    "plt.xlabel('Dates', fontsize = 20)\n",
    "plt.xticks(fontsize = 15)\n",
    "plt.ylabel('Close Prices', fontsize = 20)\n",
    "plt.yticks(fontsize = 15)\n",
    "plt.plot(stock_data.Close, linewidth = 3, color = 'blue')\n",
    "plt.plot(roll_mean, linewidth = 3, color = 'red')\n",
    "plt.plot(roll_std, linewidth = 3, color = 'green')\n",
    "plt.title('Tesla Stock Closing Price', fontsize = 30)\n",
    "plt.show()"
   ]
  },
  {
   "cell_type": "code",
   "execution_count": null,
   "id": "41c664e7-5960-4984-96f9-42cda5215a53",
   "metadata": {},
   "outputs": [],
   "source": [
    "# ADF (Ada Fuller Test) \n",
    "\n",
    "from statsmodels.tsa.stattools import adfuller\n",
    "adft = adfuller(stock_data['Close'])\n",
    "adft"
   ]
  },
  {
   "cell_type": "code",
   "execution_count": null,
   "id": "55c01532-d1d5-4102-9e91-bfd73f809e0f",
   "metadata": {},
   "outputs": [],
   "source": [
    "pd.Series(adft[0:4], index = ['test stats', 'p-value', 'lag', 'data points'])"
   ]
  },
  {
   "cell_type": "code",
   "execution_count": null,
   "id": "707ef677-29f5-498f-be2d-02ac0c0ccfc9",
   "metadata": {},
   "outputs": [],
   "source": [
    "for key, values in adft[4].items():"
   ]
  },
  {
   "cell_type": "code",
   "execution_count": null,
   "id": "b61b3ed3-4b14-4513-8c2b-3a6be932f228",
   "metadata": {},
   "outputs": [],
   "source": [
    "# Test for stationary\n",
    "\n",
    "\n",
    "def test_stationarity(timeseries):\n",
    "    # determining Rolling statistics\n",
    "    roll_mean = timeseries.rolling(48).mean()\n",
    "    roll_std = timeseries.rolling(48).std()\n",
    "    #plot Rolling statistics\n",
    "    plt.figure(figsize=(18,8))\n",
    "    plt.grid('both')\n",
    "    plt.xlabel('Dates', fontsize = 20)\n",
    "    plt.xticks(fontsize = 15)\n",
    "    plt.ylabel('Close Prices', fontsize = 20)\n",
    "    plt.yticks(fontsize = 15)\n",
    "    \n",
    "    plt.plot(timeseries, linewidth = 3, color = 'blue', label='Original')\n",
    "    plt.plot(roll_mean, linewidth = 3, color = 'red', label='Rolling Mean')\n",
    "    plt.plot(roll_std, linewidth = 4, color = 'black',  label='Rolling Std')\n",
    "    \n",
    "    plt.legend(loc='best', fontsize=20, shadow=True, facecolor='lightpink', edgecolor = 'k')\n",
    "    \n",
    "    plt.title('Rolling Mean and Standard Deviation', fontsize = 30)\n",
    "    plt.show(block=False)\n",
    "    \n",
    "    \n",
    "    print(\"Results of dickey fuller test\")\n",
    "    adft = adfuller(timeseries, autolag='AIC')\n",
    "    output = pd.Series(adft[0:4], index = ['test stats', 'p-value', 'lag', 'data points'])\n",
    "    for key, values in adft[4].items():\n",
    "        output['critical value (%s)'%key] = values\n",
    "    print(output)\n",
    "    "
   ]
  },
  {
   "cell_type": "code",
   "execution_count": null,
   "id": "8bdf0e16-024c-4dd3-8c87-22af1f2cc60e",
   "metadata": {},
   "outputs": [],
   "source": [
    "test_stationarity(stock_data.Close)"
   ]
  },
  {
   "cell_type": "markdown",
   "id": "07b4f8c3-a7fe-4e3c-8255-d54dbb455c06",
   "metadata": {},
   "source": [
    "# DATA DECOMPOSITION"
   ]
  },
  {
   "cell_type": "code",
   "execution_count": null,
   "id": "7bebe150-18ab-4ea2-8265-2af00291e1f0",
   "metadata": {},
   "outputs": [],
   "source": [
    "from statsmodels.tsa.seasonal import seasonal_decompose\n",
    "\n",
    "result = seasonal_decompose(stock_data.Close, period=12)\n",
    "result.seasonal"
   ]
  },
  {
   "cell_type": "code",
   "execution_count": null,
   "id": "4f72800c-b5df-43f9-a814-b5ad8d5cf3df",
   "metadata": {},
   "outputs": [],
   "source": [
    "fig = plt.figure(figsize=(20,10))\n",
    "fig = result.plot()\n",
    "fig.set_size_inches(17,10)"
   ]
  },
  {
   "cell_type": "code",
   "execution_count": null,
   "id": "65c108aa-0a93-45c8-b82c-c09f11b14cec",
   "metadata": {},
   "outputs": [],
   "source": [
    "result = seasonal_decompose(stock_data.Close, period=12, model = 'multiplicative')"
   ]
  },
  {
   "cell_type": "code",
   "execution_count": null,
   "id": "18527186-5a41-4f69-ae27-94a59ddb7f5e",
   "metadata": {},
   "outputs": [],
   "source": [
    "fig = plt.figure(figsize=(20,10))\n",
    "fig = result.plot()\n",
    "fig.set_size_inches(17,10)"
   ]
  },
  {
   "cell_type": "markdown",
   "id": "bba204d5-3b9b-4029-992d-b3e9d0f6aceb",
   "metadata": {},
   "source": [
    "# Check Outliers "
   ]
  },
  {
   "cell_type": "code",
   "execution_count": null,
   "id": "dd2bf7fa-ca35-4f5c-b439-2f76f5963c80",
   "metadata": {},
   "outputs": [],
   "source": [
    "import seaborn as sns\n",
    "\n",
    "sns.boxplot(stock_data.Close)"
   ]
  },
  {
   "cell_type": "code",
   "execution_count": null,
   "id": "783e0aaf-da4d-41f6-9da4-c067d1355b68",
   "metadata": {},
   "outputs": [],
   "source": [
    "fig, ax = plt.subplots(figsize=(20,10))\n",
    "\n",
    "\n",
    "ax.boxplot(stock_data.Close)\n",
    "\n",
    "ax.set_xlabel('Variables')\n",
    "\n",
    "ax.set_ylabel('Values')\n",
    "\n",
    "ax.set_title('Box Plot')\n",
    "\n",
    "plt.show()"
   ]
  },
  {
   "cell_type": "markdown",
   "id": "653f1cc7-aefa-477e-8f2e-b074468bd128",
   "metadata": {},
   "source": [
    "# Check Auto Correlation"
   ]
  },
  {
   "cell_type": "code",
   "execution_count": null,
   "id": "a3859b3e-a223-4acc-bcda-f1761f1408c9",
   "metadata": {},
   "outputs": [],
   "source": [
    "from statsmodels.graphics.tsaplots import plot_acf, plot_pacf\n",
    "\n",
    "plot_acf(stock_data.Close)\n",
    "plot_pacf(stock_data.Close)"
   ]
  },
  {
   "cell_type": "markdown",
   "id": "85ec91a7-e6c7-49dd-a96a-36985a1de308",
   "metadata": {},
   "source": [
    "# Preprocessing of the data"
   ]
  },
  {
   "cell_type": "markdown",
   "id": "8584a143-4cd2-41e9-93ce-41ca8471ac5a",
   "metadata": {},
   "source": [
    "##### Convert data into stationary time series"
   ]
  },
  {
   "cell_type": "code",
   "execution_count": null,
   "id": "96501d20-f5a7-4a5a-9e9c-e59203211900",
   "metadata": {},
   "outputs": [],
   "source": [
    "# differencing\n",
    "\n",
    "df_close = stock_data['Close']\n",
    "df_close = df_close.diff(1)\n",
    "df_close"
   ]
  },
  {
   "cell_type": "code",
   "execution_count": null,
   "id": "491975e2-57ab-4197-9ad9-0247f4c71ec1",
   "metadata": {},
   "outputs": [],
   "source": [
    "df_close = df_close.dropna()\n",
    "df_close"
   ]
  },
  {
   "cell_type": "code",
   "execution_count": null,
   "id": "755f0143-d99c-43f3-b05f-3c90eacd09ff",
   "metadata": {},
   "outputs": [],
   "source": [
    "test_stationarity(df_close)"
   ]
  },
  {
   "cell_type": "code",
   "execution_count": null,
   "id": "a20fda2e-2544-4f33-a0ef-6bab0c610761",
   "metadata": {},
   "outputs": [],
   "source": [
    "fig = plt.figure(figsize=(12,12))\n",
    "\n",
    "ax1 = fig.add_subplot(211)\n",
    "fig = plot_acf(df_close, ax=ax1)\n",
    "\n",
    "ax2 = fig.add_subplot(212)\n",
    "fig = plot_pacf(df_close, ax=ax2)"
   ]
  },
  {
   "cell_type": "code",
   "execution_count": null,
   "id": "e3b6c6c1-cf5a-496b-a075-ed9b0ed64825",
   "metadata": {},
   "outputs": [],
   "source": [
    "# split data into train test split\n",
    "\n",
    "train_data = df_close[0:-60]\n",
    "test_data = df_close[-60:]\n",
    "\n",
    "plt.style.use('ggplot')\n",
    "plt.figure(figsize=(18,8))\n",
    "plt.grid(True)\n",
    "plt.xlabel('Dates', fontsize = 20)\n",
    "plt.xticks(fontsize = 15)\n",
    "plt.ylabel('Close Prices', fontsize = 20)\n",
    "plt.yticks(fontsize = 15)\n",
    "\n",
    "plt.plot(train_data, linewidth = 5, color = 'green', label = 'Train data')\n",
    "\n",
    "plt.plot(test_data, linewidth = 5, color = 'blue', label = 'Test data')\n",
    "\n",
    "plt.legend(fontsize = 20, shadow = True, facecolor='lightpink', edgecolor = 'k')\n",
    "\n",
    "plt.title('Tesla Stock Closing Price', fontsize = 30)\n",
    "plt.show()"
   ]
  },
  {
   "cell_type": "markdown",
   "id": "9375513c-3bca-4ce0-922c-5922fe55365e",
   "metadata": {},
   "source": [
    "# Model Building"
   ]
  },
  {
   "cell_type": "code",
   "execution_count": null,
   "id": "0c968dfc-68b4-4b9e-a5f3-9862dea093a7",
   "metadata": {},
   "outputs": [],
   "source": [
    "import statsmodels.api as sm\n",
    "from statsmodels.tsa.arima.model import ARIMA\n",
    "from sklearn. metrics import mean_squared_error"
   ]
  },
  {
   "cell_type": "code",
   "execution_count": null,
   "id": "faeb1e29-9764-448e-8798-b35d42b0adfd",
   "metadata": {},
   "outputs": [],
   "source": [
    "history = [x for x in train_data]"
   ]
  },
  {
   "cell_type": "code",
   "execution_count": null,
   "id": "c3308631-88ac-4d3f-86be-603b0fe87932",
   "metadata": {},
   "outputs": [],
   "source": [
    "model = ARIMA(history, order=(1,1,1))\n",
    "model"
   ]
  },
  {
   "cell_type": "code",
   "execution_count": null,
   "id": "7ceb6b15-342e-42ee-b05d-0d7c6f7671ea",
   "metadata": {},
   "outputs": [],
   "source": [
    "model = model.fit()"
   ]
  },
  {
   "cell_type": "code",
   "execution_count": null,
   "id": "934353b9-2835-446c-9b16-0d44cb774ac3",
   "metadata": {},
   "outputs": [],
   "source": [
    "model.summary()"
   ]
  },
  {
   "cell_type": "code",
   "execution_count": null,
   "id": "08609d8f-aeba-4150-aa0f-81797ee0e626",
   "metadata": {},
   "outputs": [],
   "source": [
    "model.forecast()"
   ]
  },
  {
   "cell_type": "code",
   "execution_count": null,
   "id": "ebb17dcd-98d5-45f6-a42e-82fab2a6fe53",
   "metadata": {},
   "outputs": [],
   "source": [
    "test_data[0]"
   ]
  },
  {
   "cell_type": "code",
   "execution_count": null,
   "id": "f6c7fd41-ea76-4f3f-8a85-59c8b74907df",
   "metadata": {},
   "outputs": [],
   "source": [
    "mean_squared_error([test_data[0]], model.forecast())"
   ]
  },
  {
   "cell_type": "code",
   "execution_count": null,
   "id": "ae86c7c0-f959-417b-9dd8-7ee8cc4e3852",
   "metadata": {},
   "outputs": [],
   "source": [
    "import numpy as np\n",
    "np.sqrt(mean_squared_error([test_data[0]], model.forecast()))"
   ]
  },
  {
   "cell_type": "code",
   "execution_count": null,
   "id": "7b455033-7f42-4dbf-86bf-82328384df88",
   "metadata": {},
   "outputs": [],
   "source": [
    "p_values = range(0,3)\n",
    "\n",
    "d_values = range(0,3)\n",
    "\n",
    "q_values = range(0,3)"
   ]
  },
  {
   "cell_type": "code",
   "execution_count": null,
   "id": "64c5b957-deb0-49d3-a30c-aaed997cfc61",
   "metadata": {},
   "outputs": [],
   "source": [
    "for i in p_values:\n",
    "    for j in d_values:\n",
    "        for k in q_values:\n",
    "            print(i,j,k)"
   ]
  },
  {
   "cell_type": "code",
   "execution_count": null,
   "id": "e593e07c-b34f-4550-bf18-4ca4b704dc37",
   "metadata": {},
   "outputs": [],
   "source": [
    "def train_arima_model(X, y, arima_order):\n",
    "    # prepare training dataset\n",
    "    # make prediction list\n",
    "    history = [x for x in X]\n",
    "    predictions = list()\n",
    "    for t in range(len(y)):\n",
    "        model = ARIMA(history, order=arima_order)\n",
    "        model_fit = model.fit()\n",
    "        y_hat = model_fit.forecast()[0]\n",
    "        predictions.append(y_hat)\n",
    "        history.append(y[t])\n",
    "        \n",
    "    # calculate out of sample error\n",
    "    \n",
    "    rmse = np.sqrt(mean_squared_error(y, predictions))\n",
    "    return rmse"
   ]
  },
  {
   "cell_type": "code",
   "execution_count": null,
   "id": "462aaded-da7e-4209-b1d4-c2f1a71e7c12",
   "metadata": {},
   "outputs": [],
   "source": [
    "def evaluate_models(dataset, test, p_values, d_values, q_values):\n",
    "    dataset = dataset.astype('float32')\n",
    "    best_score, best_cfg = float('inf'), None\n",
    "    for p in p_values:\n",
    "        for d in d_values:\n",
    "            for q in q_values:\n",
    "                order = (p,d,q)\n",
    "                try:\n",
    "                    rmse = train_arima_model(dataset, test, order)\n",
    "                    if rmse < best_score:\n",
    "                        best_score, best_cfg = rmse, order\n",
    "                    print('ARIMA%s RMSE=%.3f' % (order, rmse))\n",
    "                except:\n",
    "                    continue\n",
    "    print('Best ARIMA%s RMSE=%.3f' % (best_cfg, best_score))"
   ]
  },
  {
   "cell_type": "code",
   "execution_count": null,
   "id": "acae6e14-0d38-47b0-9287-6ab5b8277fdc",
   "metadata": {},
   "outputs": [],
   "source": [
    "import warnings\n",
    "warnings.filterwarnings('ignore')\n",
    "\n",
    "p_values = range(0,3)\n",
    "d_values = range(0,3)\n",
    "q_values = range(0,3)\n",
    "\n",
    "\n",
    "evaluate_models(train_data, test_data, p_values, d_values, q_values)"
   ]
  },
  {
   "cell_type": "code",
   "execution_count": null,
   "id": "ea3f6cd0-5dbd-4f85-a0a5-58d3e7b39b35",
   "metadata": {},
   "outputs": [],
   "source": [
    "history = [x for x in train_data]\n",
    "\n",
    "predictions = list()\n",
    "\n",
    "for i  in range(len(test_data)):\n",
    "    model = ARIMA(history, order=(1,2,2))\n",
    "    model = model.fit()\n",
    "    fc = model.forecast(alpha = 0.05)\n",
    "    predictions.append(fc)\n",
    "    history.append(test_data[i])\n",
    "print(f\"RMSE is {np.sqrt(mean_squared_error(test_data,predictions))}\")"
   ]
  },
  {
   "cell_type": "code",
   "execution_count": null,
   "id": "be5f5bae-1f5d-446a-a592-c816df2c80a0",
   "metadata": {},
   "outputs": [],
   "source": [
    "plt.style.use('ggplot')\n",
    "plt.figure(figsize=(18,8))\n",
    "plt.grid(True)\n",
    "\n",
    "plt.plot(range(len(test_data)), test_data, label= 'True Test Close Value', linewidth = 5)\n",
    "plt.plot(range(len(predictions)), predictions, label= 'Prediction on Test Data', linewidth = 5)\n",
    "\n",
    "\n",
    "plt.xticks(fontsize = 15)\n",
    "plt.xticks(fontsize = 15)\n",
    "\n",
    "plt.legend(fontsize = 20, shadow = True, facecolor='lightpink', edgecolor = 'k')\n",
    "plt.show()"
   ]
  },
  {
   "cell_type": "code",
   "execution_count": null,
   "id": "efdccb03-38e1-4530-8b69-6fb25b44cea3",
   "metadata": {},
   "outputs": [],
   "source": [
    "fc_series = pd.Series(predictions, index=test_data.index)\n",
    "fc_series"
   ]
  },
  {
   "cell_type": "code",
   "execution_count": null,
   "id": "0560d96f-09d6-49d0-a2d5-123ff1808fc3",
   "metadata": {},
   "outputs": [],
   "source": [
    "plt.figure(figsize=(12,5), dpi=100)\n",
    "plt.grid(True)\n",
    "\n",
    "plt.plot(train_data, label= 'Training', color='blue')\n",
    "plt.plot(test_data, label= 'Test', color='green', linewidth = 5)\n",
    "plt.plot(fc_series, label= 'Forecast', color='red')\n",
    "\n",
    "plt.title('Forecast Vs Actuals on test data')\n",
    "\n",
    "plt.legend(loc='upper left' , fontsize = 20)\n",
    "plt.show()"
   ]
  },
  {
   "cell_type": "code",
   "execution_count": null,
   "id": "d58d21f6-98fc-420c-ae6f-9b3b5b546d4c",
   "metadata": {},
   "outputs": [],
   "source": [
    "from statsmodels.graphics.tsaplots import plot_predict\n",
    "fig = plt.figure(figsize=(18,8))\n",
    "ax1 = fig.add_subplot(111)\n",
    "plot_predict(result=model, start=1, end=len(df_close)+60, ax=ax1)\n",
    "plt.grid('both')\n",
    "plt.legend(['Forecast', 'Close', '95% confidence interval'],fontsize = 20, shadow = True, facecolor='lightpink', edgecolor = 'k')\n",
    "plt.show()"
   ]
  },
  {
   "cell_type": "code",
   "execution_count": null,
   "id": "5ac356e7-ec86-46dd-ae12-182af502a39b",
   "metadata": {},
   "outputs": [],
   "source": [
    "import warnings\n",
    "warnings.filterwarnings('ignore')\n",
    "\n",
    "\n",
    "history = [x for x in train_data]\n",
    "\n",
    "predictions = list()\n",
    "\n",
    "for t  in range(len(test_data)):\n",
    "    model = sm.tsa.statespace.SARIMAX(history, order=(0,1,0), seasonal_order=(1,1,1,3))\n",
    "    model = model.fit()\n",
    "    fc = model.forecast(alpha = 0.05)\n",
    "    predictions.append(fc)\n",
    "    history.append(test_data[t])\n",
    "print(f\"RMSE of SARIMA Model: {np.sqrt(mean_squared_error(test_data,predictions))}\")"
   ]
  },
  {
   "cell_type": "code",
   "execution_count": null,
   "id": "0960073a-1b8f-437a-9683-60bb77f61f82",
   "metadata": {},
   "outputs": [],
   "source": [
    "plt.style.use('ggplot')\n",
    "plt.figure(figsize=(18,8))\n",
    "plt.grid(True)\n",
    "\n",
    "plt.plot(range(len(test_data)), test_data, label= 'True Test Close Value', linewidth = 5)\n",
    "plt.plot(range(len(predictions)), predictions, label= 'Prediction on Test Data', linewidth = 5)\n",
    "\n",
    "\n",
    "plt.xticks(fontsize = 15)\n",
    "plt.xticks(fontsize = 15)\n",
    "\n",
    "plt.legend(fontsize = 20, shadow = True, facecolor='lightpink', edgecolor = 'k')\n",
    "plt.show()"
   ]
  }
 ],
 "metadata": {
  "kernelspec": {
   "display_name": "Python 3 (ipykernel)",
   "language": "python",
   "name": "python3"
  },
  "language_info": {
   "codemirror_mode": {
    "name": "ipython",
    "version": 3
   },
   "file_extension": ".py",
   "mimetype": "text/x-python",
   "name": "python",
   "nbconvert_exporter": "python",
   "pygments_lexer": "ipython3",
   "version": "3.10.8"
  }
 },
 "nbformat": 4,
 "nbformat_minor": 5
}
